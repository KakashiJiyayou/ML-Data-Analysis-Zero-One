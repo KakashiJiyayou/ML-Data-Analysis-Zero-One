{
 "cells": [
  {
   "cell_type": "markdown",
   "id": "68b97949-4b17-450f-a7a5-65255ec50330",
   "metadata": {},
   "source": [
    "# Numpy"
   ]
  },
  {
   "cell_type": "code",
   "execution_count": 1,
   "id": "445e2c17-18ff-4d48-ab49-a3904c26fb3d",
   "metadata": {},
   "outputs": [],
   "source": [
    "import numpy as np"
   ]
  },
  {
   "cell_type": "code",
   "execution_count": 3,
   "id": "09b4e7e8-be6c-494d-8cfd-78c4c8cc9c5a",
   "metadata": {},
   "outputs": [
    {
     "data": {
      "text/plain": [
       "array([1, 2, 3, 4])"
      ]
     },
     "execution_count": 3,
     "metadata": {},
     "output_type": "execute_result"
    }
   ],
   "source": [
    "my_array = np.array([1,2,3,4])\n",
    "my_array"
   ]
  },
  {
   "cell_type": "code",
   "execution_count": 4,
   "id": "4a6f016b-3e3a-452c-9781-9775c4fb99fb",
   "metadata": {},
   "outputs": [
    {
     "data": {
      "text/plain": [
       "2.5"
      ]
     },
     "execution_count": 4,
     "metadata": {},
     "output_type": "execute_result"
    }
   ],
   "source": [
    "my_array.mean()"
   ]
  },
  {
   "cell_type": "code",
   "execution_count": 7,
   "id": "3fed7575-96da-41c6-97db-69d611d281a3",
   "metadata": {},
   "outputs": [],
   "source": [
    "# job titles\n",
    "job_titles = np.array(['Data Analyst', 'Data Scientist', 'Data Engineer', 'Machine Learning Engineer'])\n",
    "\n",
    "# Base Salaries\n",
    "base_salries = np.array([60_000, 80_000, 75_000, 90_000])\n",
    "\n",
    "# Bonus Rates\n",
    "bonus_rates = np.array([0.05, 0.1 , 0.08, 0.12])\n"
   ]
  },
  {
   "cell_type": "code",
   "execution_count": 10,
   "id": "14a61896-d1c2-43b8-b7cb-76a8ea92c686",
   "metadata": {},
   "outputs": [
    {
     "data": {
      "text/plain": [
       "array([ 63000.,  88000.,  81000., 100800.])"
      ]
     },
     "execution_count": 10,
     "metadata": {},
     "output_type": "execute_result"
    }
   ],
   "source": [
    "total_salaries = base_salries * (1 + bonus_rates)\n",
    "total_salaries"
   ]
  },
  {
   "cell_type": "code",
   "execution_count": 11,
   "id": "523a12c5-8e20-4d03-9632-f265473b89b0",
   "metadata": {},
   "outputs": [
    {
     "data": {
      "text/plain": [
       "83200.0"
      ]
     },
     "execution_count": 11,
     "metadata": {},
     "output_type": "execute_result"
    }
   ],
   "source": [
    "np.mean(total_salaries)"
   ]
  },
  {
   "cell_type": "markdown",
   "id": "04a29e14-b5e8-4fa1-a9d3-9fc23e205958",
   "metadata": {},
   "source": [
    "### None Vlaues"
   ]
  },
  {
   "cell_type": "code",
   "execution_count": 14,
   "id": "f39b62f0-e08c-497a-8b68-a130685d0ff5",
   "metadata": {},
   "outputs": [
    {
     "data": {
      "text/plain": [
       "66560.0"
      ]
     },
     "execution_count": 14,
     "metadata": {},
     "output_type": "execute_result"
    }
   ],
   "source": [
    "# job titles\n",
    "job_titles = np.array(['Data Analyst', 'Data Scientist', 'Data Engineer', 'Machine Learning Engineer', 'AI Engineer'])\n",
    "\n",
    "# Base Salaries\n",
    "base_salries = np.array([60_000, 80_000, 75_000, 90_000, 0])\n",
    "\n",
    "# Bonus Rates\n",
    "bonus_rates = np.array([0.05, 0.1 , 0.08, 0.12, 0])\n",
    "\n",
    "# Mean will decrease if we do not calculate empty vlaues as None\n",
    "total_salaries = base_salries * (1 + bonus_rates)\n",
    "total_salaries\n",
    "np.mean(total_salaries)\n"
   ]
  },
  {
   "cell_type": "code",
   "execution_count": null,
   "id": "0b88002c-f1e8-4b71-bc76-42ec45912daf",
   "metadata": {},
   "outputs": [],
   "source": [
    "# job titles\n",
    "job_titles = np.array(['Data Analyst', 'Data Scientist', 'Data Engineer', 'Machine Learning Engineer', 'AI Engineer'])\n",
    "\n",
    "# Base Salaries\n",
    "base_salries = np.array([60_000, 80_000, 75_000, 90_000, None])\n",
    "\n",
    "# Bonus Rates\n",
    "bonus_rates = np.array([0.05, 0.1 , 0.08, 0.12, None])\n",
    "\n",
    "# Mean will decrease if we do not calculate empty vlaues as None\n",
    "total_salaries = base_salries * (1 + bonus_rates)\n",
    "total_salaries\n",
    "np.mean(total_salaries)"
   ]
  },
  {
   "cell_type": "code",
   "execution_count": null,
   "id": "8fdd0c93-3f22-4ff5-b7a8-262eccbf489a",
   "metadata": {},
   "outputs": [],
   "source": []
  },
  {
   "cell_type": "code",
   "execution_count": null,
   "id": "329a4394-b0a2-4c5d-b6c9-9a6b26d8a53c",
   "metadata": {},
   "outputs": [],
   "source": []
  }
 ],
 "metadata": {
  "kernelspec": {
   "display_name": "Python 3 (ipykernel)",
   "language": "python",
   "name": "python3"
  },
  "language_info": {
   "codemirror_mode": {
    "name": "ipython",
    "version": 3
   },
   "file_extension": ".py",
   "mimetype": "text/x-python",
   "name": "python",
   "nbconvert_exporter": "python",
   "pygments_lexer": "ipython3",
   "version": "3.9.23"
  }
 },
 "nbformat": 4,
 "nbformat_minor": 5
}
